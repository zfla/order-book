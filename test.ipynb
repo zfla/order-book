{
 "cells": [
  {
   "cell_type": "code",
   "execution_count": 2,
   "metadata": {},
   "outputs": [],
   "source": [
    "import pandas as pd\n",
    "import numpy as np"
   ]
  },
  {
   "cell_type": "code",
   "execution_count": 3,
   "metadata": {},
   "outputs": [
    {
     "data": {
      "text/html": [
       "<div>\n",
       "<style scoped>\n",
       "    .dataframe tbody tr th:only-of-type {\n",
       "        vertical-align: middle;\n",
       "    }\n",
       "\n",
       "    .dataframe tbody tr th {\n",
       "        vertical-align: top;\n",
       "    }\n",
       "\n",
       "    .dataframe thead th {\n",
       "        text-align: right;\n",
       "    }\n",
       "</style>\n",
       "<table border=\"1\" class=\"dataframe\">\n",
       "  <thead>\n",
       "    <tr style=\"text-align: right;\">\n",
       "      <th></th>\n",
       "      <th>orderId</th>\n",
       "      <th>price</th>\n",
       "      <th>qty</th>\n",
       "      <th>side</th>\n",
       "      <th>timestamp</th>\n",
       "    </tr>\n",
       "  </thead>\n",
       "  <tbody>\n",
       "    <tr>\n",
       "      <th>0</th>\n",
       "      <td>1</td>\n",
       "      <td>27.65</td>\n",
       "      <td>22</td>\n",
       "      <td>ASK</td>\n",
       "      <td>2023-11-29 17:01:01.855124</td>\n",
       "    </tr>\n",
       "    <tr>\n",
       "      <th>1</th>\n",
       "      <td>2</td>\n",
       "      <td>27.25</td>\n",
       "      <td>88</td>\n",
       "      <td>ASK</td>\n",
       "      <td>2023-11-29 17:01:10.855124</td>\n",
       "    </tr>\n",
       "    <tr>\n",
       "      <th>2</th>\n",
       "      <td>3</td>\n",
       "      <td>27.06</td>\n",
       "      <td>28</td>\n",
       "      <td>ASK</td>\n",
       "      <td>2023-11-29 17:01:11.855124</td>\n",
       "    </tr>\n",
       "    <tr>\n",
       "      <th>3</th>\n",
       "      <td>4</td>\n",
       "      <td>27.21</td>\n",
       "      <td>47</td>\n",
       "      <td>ASK</td>\n",
       "      <td>2023-11-29 17:01:15.855124</td>\n",
       "    </tr>\n",
       "    <tr>\n",
       "      <th>4</th>\n",
       "      <td>1</td>\n",
       "      <td>27.65</td>\n",
       "      <td>12</td>\n",
       "      <td>ASK</td>\n",
       "      <td>2023-11-29 17:01:25.855124</td>\n",
       "    </tr>\n",
       "  </tbody>\n",
       "</table>\n",
       "</div>"
      ],
      "text/plain": [
       "   orderId  price  qty side                  timestamp\n",
       "0        1  27.65   22  ASK 2023-11-29 17:01:01.855124\n",
       "1        2  27.25   88  ASK 2023-11-29 17:01:10.855124\n",
       "2        3  27.06   28  ASK 2023-11-29 17:01:11.855124\n",
       "3        4  27.21   47  ASK 2023-11-29 17:01:15.855124\n",
       "4        1  27.65   12  ASK 2023-11-29 17:01:25.855124"
      ]
     },
     "execution_count": 3,
     "metadata": {},
     "output_type": "execute_result"
    }
   ],
   "source": [
    "df = pd.read_csv(\"./sample_market_data.csv\")\n",
    "df[\"timestamp\"] = pd.to_datetime(df[\"timestamp\"])\n",
    "df.head()\n"
   ]
  },
  {
   "cell_type": "code",
   "execution_count": 4,
   "metadata": {},
   "outputs": [],
   "source": [
    "# Defining a timestamp to be later used\n",
    "#timestamp = \"2023-11-29 17:01:25.855124\"\n",
    "timestamp = \"2023-11-29 17:30:55.855124\"\n",
    "timestamp = pd.to_datetime(timestamp)"
   ]
  },
  {
   "cell_type": "code",
   "execution_count": 5,
   "metadata": {},
   "outputs": [
    {
     "data": {
      "text/html": [
       "<div>\n",
       "<style scoped>\n",
       "    .dataframe tbody tr th:only-of-type {\n",
       "        vertical-align: middle;\n",
       "    }\n",
       "\n",
       "    .dataframe tbody tr th {\n",
       "        vertical-align: top;\n",
       "    }\n",
       "\n",
       "    .dataframe thead th {\n",
       "        text-align: right;\n",
       "    }\n",
       "</style>\n",
       "<table border=\"1\" class=\"dataframe\">\n",
       "  <thead>\n",
       "    <tr style=\"text-align: right;\">\n",
       "      <th></th>\n",
       "      <th>orderId</th>\n",
       "      <th>price</th>\n",
       "      <th>qty</th>\n",
       "      <th>side</th>\n",
       "      <th>timestamp</th>\n",
       "    </tr>\n",
       "  </thead>\n",
       "  <tbody>\n",
       "    <tr>\n",
       "      <th>0</th>\n",
       "      <td>1</td>\n",
       "      <td>27.65</td>\n",
       "      <td>22</td>\n",
       "      <td>ASK</td>\n",
       "      <td>2023-11-29 17:01:01.855124</td>\n",
       "    </tr>\n",
       "    <tr>\n",
       "      <th>1</th>\n",
       "      <td>2</td>\n",
       "      <td>27.25</td>\n",
       "      <td>88</td>\n",
       "      <td>ASK</td>\n",
       "      <td>2023-11-29 17:01:10.855124</td>\n",
       "    </tr>\n",
       "    <tr>\n",
       "      <th>2</th>\n",
       "      <td>3</td>\n",
       "      <td>27.06</td>\n",
       "      <td>28</td>\n",
       "      <td>ASK</td>\n",
       "      <td>2023-11-29 17:01:11.855124</td>\n",
       "    </tr>\n",
       "    <tr>\n",
       "      <th>3</th>\n",
       "      <td>4</td>\n",
       "      <td>27.21</td>\n",
       "      <td>47</td>\n",
       "      <td>ASK</td>\n",
       "      <td>2023-11-29 17:01:15.855124</td>\n",
       "    </tr>\n",
       "    <tr>\n",
       "      <th>4</th>\n",
       "      <td>1</td>\n",
       "      <td>27.65</td>\n",
       "      <td>12</td>\n",
       "      <td>ASK</td>\n",
       "      <td>2023-11-29 17:01:25.855124</td>\n",
       "    </tr>\n",
       "  </tbody>\n",
       "</table>\n",
       "</div>"
      ],
      "text/plain": [
       "   orderId  price  qty side                  timestamp\n",
       "0        1  27.65   22  ASK 2023-11-29 17:01:01.855124\n",
       "1        2  27.25   88  ASK 2023-11-29 17:01:10.855124\n",
       "2        3  27.06   28  ASK 2023-11-29 17:01:11.855124\n",
       "3        4  27.21   47  ASK 2023-11-29 17:01:15.855124\n",
       "4        1  27.65   12  ASK 2023-11-29 17:01:25.855124"
      ]
     },
     "execution_count": 5,
     "metadata": {},
     "output_type": "execute_result"
    }
   ],
   "source": [
    "# Forming a list of orders at a specified timestamp\n",
    "orders = df[df[\"timestamp\"] <= timestamp]\n",
    "orders.head()"
   ]
  },
  {
   "cell_type": "code",
   "execution_count": 6,
   "metadata": {},
   "outputs": [
    {
     "data": {
      "text/html": [
       "<div>\n",
       "<style scoped>\n",
       "    .dataframe tbody tr th:only-of-type {\n",
       "        vertical-align: middle;\n",
       "    }\n",
       "\n",
       "    .dataframe tbody tr th {\n",
       "        vertical-align: top;\n",
       "    }\n",
       "\n",
       "    .dataframe thead th {\n",
       "        text-align: right;\n",
       "    }\n",
       "</style>\n",
       "<table border=\"1\" class=\"dataframe\">\n",
       "  <thead>\n",
       "    <tr style=\"text-align: right;\">\n",
       "      <th></th>\n",
       "      <th>orderId</th>\n",
       "      <th>price</th>\n",
       "      <th>qty</th>\n",
       "      <th>side</th>\n",
       "      <th>timestamp</th>\n",
       "    </tr>\n",
       "  </thead>\n",
       "  <tbody>\n",
       "    <tr>\n",
       "      <th>229</th>\n",
       "      <td>1</td>\n",
       "      <td>27.65</td>\n",
       "      <td>78</td>\n",
       "      <td>ASK</td>\n",
       "      <td>2023-11-29 17:21:18.855124</td>\n",
       "    </tr>\n",
       "    <tr>\n",
       "      <th>2</th>\n",
       "      <td>3</td>\n",
       "      <td>27.06</td>\n",
       "      <td>28</td>\n",
       "      <td>ASK</td>\n",
       "      <td>2023-11-29 17:01:11.855124</td>\n",
       "    </tr>\n",
       "    <tr>\n",
       "      <th>3</th>\n",
       "      <td>4</td>\n",
       "      <td>27.21</td>\n",
       "      <td>47</td>\n",
       "      <td>ASK</td>\n",
       "      <td>2023-11-29 17:01:15.855124</td>\n",
       "    </tr>\n",
       "    <tr>\n",
       "      <th>5</th>\n",
       "      <td>5</td>\n",
       "      <td>26.49</td>\n",
       "      <td>65</td>\n",
       "      <td>BID</td>\n",
       "      <td>2023-11-29 17:01:26.855124</td>\n",
       "    </tr>\n",
       "    <tr>\n",
       "      <th>6</th>\n",
       "      <td>6</td>\n",
       "      <td>27.47</td>\n",
       "      <td>10</td>\n",
       "      <td>ASK</td>\n",
       "      <td>2023-11-29 17:01:36.855124</td>\n",
       "    </tr>\n",
       "  </tbody>\n",
       "</table>\n",
       "</div>"
      ],
      "text/plain": [
       "     orderId  price  qty side                  timestamp\n",
       "229        1  27.65   78  ASK 2023-11-29 17:21:18.855124\n",
       "2          3  27.06   28  ASK 2023-11-29 17:01:11.855124\n",
       "3          4  27.21   47  ASK 2023-11-29 17:01:15.855124\n",
       "5          5  26.49   65  BID 2023-11-29 17:01:26.855124\n",
       "6          6  27.47   10  ASK 2023-11-29 17:01:36.855124"
      ]
     },
     "execution_count": 6,
     "metadata": {},
     "output_type": "execute_result"
    }
   ],
   "source": [
    "# Filtering to get the latest order for a corresponding orderid\n",
    "\n",
    "latest_order_ids = orders.groupby(\"orderId\")['timestamp'].idxmax()\n",
    "orders = orders.loc[latest_order_ids]\n",
    "orders = orders[orders[\"qty\"] != 0]\n",
    "orders.head()"
   ]
  },
  {
   "cell_type": "code",
   "execution_count": 7,
   "metadata": {},
   "outputs": [
    {
     "data": {
      "text/html": [
       "<div>\n",
       "<style scoped>\n",
       "    .dataframe tbody tr th:only-of-type {\n",
       "        vertical-align: middle;\n",
       "    }\n",
       "\n",
       "    .dataframe tbody tr th {\n",
       "        vertical-align: top;\n",
       "    }\n",
       "\n",
       "    .dataframe thead th {\n",
       "        text-align: right;\n",
       "    }\n",
       "</style>\n",
       "<table border=\"1\" class=\"dataframe\">\n",
       "  <thead>\n",
       "    <tr style=\"text-align: right;\">\n",
       "      <th></th>\n",
       "      <th>side</th>\n",
       "      <th>price</th>\n",
       "      <th>qty</th>\n",
       "      <th>num_orders</th>\n",
       "    </tr>\n",
       "  </thead>\n",
       "  <tbody>\n",
       "    <tr>\n",
       "      <th>0</th>\n",
       "      <td>ASK</td>\n",
       "      <td>27.94</td>\n",
       "      <td>4</td>\n",
       "      <td>1</td>\n",
       "    </tr>\n",
       "    <tr>\n",
       "      <th>1</th>\n",
       "      <td>ASK</td>\n",
       "      <td>27.93</td>\n",
       "      <td>34</td>\n",
       "      <td>1</td>\n",
       "    </tr>\n",
       "    <tr>\n",
       "      <th>2</th>\n",
       "      <td>ASK</td>\n",
       "      <td>27.92</td>\n",
       "      <td>79</td>\n",
       "      <td>1</td>\n",
       "    </tr>\n",
       "    <tr>\n",
       "      <th>3</th>\n",
       "      <td>ASK</td>\n",
       "      <td>27.89</td>\n",
       "      <td>123</td>\n",
       "      <td>2</td>\n",
       "    </tr>\n",
       "    <tr>\n",
       "      <th>4</th>\n",
       "      <td>ASK</td>\n",
       "      <td>27.83</td>\n",
       "      <td>15</td>\n",
       "      <td>1</td>\n",
       "    </tr>\n",
       "  </tbody>\n",
       "</table>\n",
       "</div>"
      ],
      "text/plain": [
       "  side  price  qty  num_orders\n",
       "0  ASK  27.94    4           1\n",
       "1  ASK  27.93   34           1\n",
       "2  ASK  27.92   79           1\n",
       "3  ASK  27.89  123           2\n",
       "4  ASK  27.83   15           1"
      ]
     },
     "execution_count": 7,
     "metadata": {},
     "output_type": "execute_result"
    }
   ],
   "source": [
    "# Forming the order book from the orders\n",
    "\n",
    "order_book = orders.groupby(['side', 'price']).agg({'qty' : 'sum', 'orderId' : 'count'})\n",
    "order_book.rename(columns={'orderId' : 'num_orders'}, inplace=True)\n",
    "order_book.sort_values('price', ascending=False, inplace=True)\n",
    "order_book = order_book.reset_index()\n",
    "\n",
    "order_book.head()"
   ]
  },
  {
   "cell_type": "code",
   "execution_count": 8,
   "metadata": {},
   "outputs": [],
   "source": [
    "order_book.to_csv('order_book.csv')"
   ]
  },
  {
   "cell_type": "code",
   "execution_count": 9,
   "metadata": {},
   "outputs": [
    {
     "name": "stdout",
     "output_type": "stream",
     "text": [
      "0.029999999999997584\n"
     ]
    },
    {
     "name": "stderr",
     "output_type": "stream",
     "text": [
      "C:\\Users\\Zain\\AppData\\Local\\Temp\\ipykernel_23676\\151278940.py:1: FutureWarning: Series.__getitem__ treating keys as positions is deprecated. In a future version, integer keys will always be treated as labels (consistent with DataFrame behavior). To access a value by position, use `ser.iloc[pos]`\n",
      "  lowest_ask_idx = order_book.groupby(\"side\")[\"price\"].idxmin()[0]\n",
      "C:\\Users\\Zain\\AppData\\Local\\Temp\\ipykernel_23676\\151278940.py:2: FutureWarning: Series.__getitem__ treating keys as positions is deprecated. In a future version, integer keys will always be treated as labels (consistent with DataFrame behavior). To access a value by position, use `ser.iloc[pos]`\n",
      "  highest_bid_idx = order_book.groupby(\"side\")[\"price\"].idxmax()[1]\n"
     ]
    }
   ],
   "source": [
    "# Additional calculations (not part of the task)\n",
    "lowest_ask_idx = order_book.groupby(\"side\")[\"price\"].idxmin()[0]\n",
    "highest_bid_idx = order_book.groupby(\"side\")[\"price\"].idxmax()[1]\n",
    "\n",
    "spread = order_book.iloc[lowest_ask_idx][\"price\"] - order_book.iloc[highest_bid_idx][\"price\"]\n",
    "print(spread)"
   ]
  },
  {
   "cell_type": "code",
   "execution_count": null,
   "metadata": {},
   "outputs": [],
   "source": []
  }
 ],
 "metadata": {
  "kernelspec": {
   "display_name": "sx",
   "language": "python",
   "name": "python3"
  },
  "language_info": {
   "codemirror_mode": {
    "name": "ipython",
    "version": 3
   },
   "file_extension": ".py",
   "mimetype": "text/x-python",
   "name": "python",
   "nbconvert_exporter": "python",
   "pygments_lexer": "ipython3",
   "version": "3.12.0"
  }
 },
 "nbformat": 4,
 "nbformat_minor": 2
}
